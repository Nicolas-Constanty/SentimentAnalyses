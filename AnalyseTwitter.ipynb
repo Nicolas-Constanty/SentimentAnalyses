{
 "cells": [
  {
   "cell_type": "code",
   "execution_count": 1,
   "metadata": {},
   "outputs": [],
   "source": [
    "%run ./importlib.py"
   ]
  },
  {
   "cell_type": "code",
   "execution_count": 2,
   "metadata": {},
   "outputs": [
    {
     "name": "stdout",
     "output_type": "stream",
     "text": [
      "importing Jupyter notebook from TwitterAnalysis.ipynb\n",
      "2.3.0\n",
      "[nltk_data] Downloading package vader_lexicon to\n",
      "[nltk_data]     C:\\Users\\nicol\\AppData\\Roaming\\nltk_data...\n",
      "[nltk_data]   Package vader_lexicon is already up-to-date!\n"
     ]
    },
    {
     "data": {
      "text/html": [
       "<script>requirejs.config({paths: { 'plotly': ['https://cdn.plot.ly/plotly-latest.min']},});if(!window.Plotly) {{require(['plotly'],function(plotly) {window.Plotly=plotly;});}}</script>"
      ],
      "text/vnd.plotly.v1+html": [
       "<script>requirejs.config({paths: { 'plotly': ['https://cdn.plot.ly/plotly-latest.min']},});if(!window.Plotly) {{require(['plotly'],function(plotly) {window.Plotly=plotly;});}}</script>"
      ]
     },
     "metadata": {},
     "output_type": "display_data"
    }
   ],
   "source": [
    "import TwitterAnalysis"
   ]
  },
  {
   "cell_type": "code",
   "execution_count": 17,
   "metadata": {},
   "outputs": [],
   "source": [
    "def analyseHashtag(query):\n",
    "    tweets = TwitterAnalysis.search(\"#\" + query, maxTweets=5000, fName=query + \".txt\")\n",
    "    return TwitterAnalysis.analyseTweets(tweets)\n",
    "\n",
    "def displayResults(res):\n",
    "    TwitterAnalysis.displayAnalyse(res[\"neutrals\"],\n",
    "                               res[\"positives\"],\n",
    "                               res[\"negatives\"],\n",
    "                               \"Sentiment Analysis \" + res[\"query\"])\n",
    "    maxTweets = len(res[\"neutrals\"]) + len(res[\"positives\"]) + len(res[\"negatives\"])\n",
    "    print(str((len(res[\"positives\"]) / maxTweets) * 100) + \" %\")"
   ]
  },
  {
   "cell_type": "code",
   "execution_count": 4,
   "metadata": {},
   "outputs": [],
   "source": [
    "cryptocurrencies = []\n",
    "cryptocurrencies_names = [\"Bitcoin\", \"Ethereum\", \"Ripple\", \"Bitcoin Cash\", \"Litecoin\"]"
   ]
  },
  {
   "cell_type": "code",
   "execution_count": 5,
   "metadata": {},
   "outputs": [
    {
     "name": "stdout",
     "output_type": "stream",
     "text": [
      "Downloading max 5000 tweets\n",
      "--- 50.09152674674988 seconds ---\n",
      "Downloading max 5000 tweets\n",
      "--- 49.72474026679993 seconds ---\n",
      "Downloading max 5000 tweets\n",
      "--- 51.599470138549805 seconds ---\n",
      "Downloading max 5000 tweets\n",
      "--- 68.5076847076416 seconds ---\n",
      "Downloading max 5000 tweets\n",
      "--- 54.528369426727295 seconds ---\n"
     ]
    }
   ],
   "source": [
    "for cryptocurrency in cryptocurrencies_names:\n",
    "    cryptocurrencies.append(analyseHashtag(cryptocurrency))"
   ]
  },
  {
   "cell_type": "code",
   "execution_count": 18,
   "metadata": {
    "scrolled": false
   },
   "outputs": [
    {
     "data": {
      "application/vnd.plotly.v1+json": {
       "data": [
        {
         "type": "bar",
         "x": [
          "neutral",
          "positive",
          "negative"
         ],
         "y": [
          3120,
          1580,
          351
         ]
        }
       ],
       "layout": {
        "plot_bgcolor": "rgb(230, 230,230)",
        "title": "Sentiment Analysis #Bitcoin"
       }
      },
      "text/html": [
       "<div id=\"d00e4704-8e88-44c5-b173-b545d062c2d3\" style=\"height: 525px; width: 100%;\" class=\"plotly-graph-div\"></div><script type=\"text/javascript\">require([\"plotly\"], function(Plotly) { window.PLOTLYENV=window.PLOTLYENV || {};window.PLOTLYENV.BASE_URL=\"https://plot.ly\";Plotly.newPlot(\"d00e4704-8e88-44c5-b173-b545d062c2d3\", [{\"type\": \"bar\", \"y\": [3120, 1580, 351], \"x\": [\"neutral\", \"positive\", \"negative\"]}], {\"title\": \"Sentiment Analysis #Bitcoin\", \"plot_bgcolor\": \"rgb(230, 230,230)\"}, {\"linkText\": \"Export to plot.ly\", \"showLink\": true})});</script>"
      ],
      "text/vnd.plotly.v1+html": [
       "<div id=\"d00e4704-8e88-44c5-b173-b545d062c2d3\" style=\"height: 525px; width: 100%;\" class=\"plotly-graph-div\"></div><script type=\"text/javascript\">require([\"plotly\"], function(Plotly) { window.PLOTLYENV=window.PLOTLYENV || {};window.PLOTLYENV.BASE_URL=\"https://plot.ly\";Plotly.newPlot(\"d00e4704-8e88-44c5-b173-b545d062c2d3\", [{\"type\": \"bar\", \"y\": [3120, 1580, 351], \"x\": [\"neutral\", \"positive\", \"negative\"]}], {\"title\": \"Sentiment Analysis #Bitcoin\", \"plot_bgcolor\": \"rgb(230, 230,230)\"}, {\"linkText\": \"Export to plot.ly\", \"showLink\": true})});</script>"
      ]
     },
     "metadata": {},
     "output_type": "display_data"
    },
    {
     "name": "stdout",
     "output_type": "stream",
     "text": [
      "31.280934468422096 %\n"
     ]
    },
    {
     "data": {
      "application/vnd.plotly.v1+json": {
       "data": [
        {
         "type": "bar",
         "x": [
          "neutral",
          "positive",
          "negative"
         ],
         "y": [
          2945,
          1918,
          177
         ]
        }
       ],
       "layout": {
        "plot_bgcolor": "rgb(230, 230,230)",
        "title": "Sentiment Analysis #Ethereum"
       }
      },
      "text/html": [
       "<div id=\"b3aaa055-7ea6-4375-a7ac-8e7c97d9a693\" style=\"height: 525px; width: 100%;\" class=\"plotly-graph-div\"></div><script type=\"text/javascript\">require([\"plotly\"], function(Plotly) { window.PLOTLYENV=window.PLOTLYENV || {};window.PLOTLYENV.BASE_URL=\"https://plot.ly\";Plotly.newPlot(\"b3aaa055-7ea6-4375-a7ac-8e7c97d9a693\", [{\"type\": \"bar\", \"y\": [2945, 1918, 177], \"x\": [\"neutral\", \"positive\", \"negative\"]}], {\"title\": \"Sentiment Analysis #Ethereum\", \"plot_bgcolor\": \"rgb(230, 230,230)\"}, {\"linkText\": \"Export to plot.ly\", \"showLink\": true})});</script>"
      ],
      "text/vnd.plotly.v1+html": [
       "<div id=\"b3aaa055-7ea6-4375-a7ac-8e7c97d9a693\" style=\"height: 525px; width: 100%;\" class=\"plotly-graph-div\"></div><script type=\"text/javascript\">require([\"plotly\"], function(Plotly) { window.PLOTLYENV=window.PLOTLYENV || {};window.PLOTLYENV.BASE_URL=\"https://plot.ly\";Plotly.newPlot(\"b3aaa055-7ea6-4375-a7ac-8e7c97d9a693\", [{\"type\": \"bar\", \"y\": [2945, 1918, 177], \"x\": [\"neutral\", \"positive\", \"negative\"]}], {\"title\": \"Sentiment Analysis #Ethereum\", \"plot_bgcolor\": \"rgb(230, 230,230)\"}, {\"linkText\": \"Export to plot.ly\", \"showLink\": true})});</script>"
      ]
     },
     "metadata": {},
     "output_type": "display_data"
    },
    {
     "name": "stdout",
     "output_type": "stream",
     "text": [
      "38.05555555555556 %\n"
     ]
    },
    {
     "data": {
      "application/vnd.plotly.v1+json": {
       "data": [
        {
         "type": "bar",
         "x": [
          "neutral",
          "positive",
          "negative"
         ],
         "y": [
          3516,
          1266,
          290
         ]
        }
       ],
       "layout": {
        "plot_bgcolor": "rgb(230, 230,230)",
        "title": "Sentiment Analysis #Ripple"
       }
      },
      "text/html": [
       "<div id=\"26bb7c23-79eb-49d2-9a95-884a2ae2e076\" style=\"height: 525px; width: 100%;\" class=\"plotly-graph-div\"></div><script type=\"text/javascript\">require([\"plotly\"], function(Plotly) { window.PLOTLYENV=window.PLOTLYENV || {};window.PLOTLYENV.BASE_URL=\"https://plot.ly\";Plotly.newPlot(\"26bb7c23-79eb-49d2-9a95-884a2ae2e076\", [{\"type\": \"bar\", \"y\": [3516, 1266, 290], \"x\": [\"neutral\", \"positive\", \"negative\"]}], {\"title\": \"Sentiment Analysis #Ripple\", \"plot_bgcolor\": \"rgb(230, 230,230)\"}, {\"linkText\": \"Export to plot.ly\", \"showLink\": true})});</script>"
      ],
      "text/vnd.plotly.v1+html": [
       "<div id=\"26bb7c23-79eb-49d2-9a95-884a2ae2e076\" style=\"height: 525px; width: 100%;\" class=\"plotly-graph-div\"></div><script type=\"text/javascript\">require([\"plotly\"], function(Plotly) { window.PLOTLYENV=window.PLOTLYENV || {};window.PLOTLYENV.BASE_URL=\"https://plot.ly\";Plotly.newPlot(\"26bb7c23-79eb-49d2-9a95-884a2ae2e076\", [{\"type\": \"bar\", \"y\": [3516, 1266, 290], \"x\": [\"neutral\", \"positive\", \"negative\"]}], {\"title\": \"Sentiment Analysis #Ripple\", \"plot_bgcolor\": \"rgb(230, 230,230)\"}, {\"linkText\": \"Export to plot.ly\", \"showLink\": true})});</script>"
      ]
     },
     "metadata": {},
     "output_type": "display_data"
    },
    {
     "name": "stdout",
     "output_type": "stream",
     "text": [
      "24.960567823343847 %\n"
     ]
    },
    {
     "data": {
      "application/vnd.plotly.v1+json": {
       "data": [
        {
         "type": "bar",
         "x": [
          "neutral",
          "positive",
          "negative"
         ],
         "y": [
          3414,
          984,
          657
         ]
        }
       ],
       "layout": {
        "plot_bgcolor": "rgb(230, 230,230)",
        "title": "Sentiment Analysis #Bitcoin Cash"
       }
      },
      "text/html": [
       "<div id=\"0551479b-efcf-4fb5-bba8-4b1b11657152\" style=\"height: 525px; width: 100%;\" class=\"plotly-graph-div\"></div><script type=\"text/javascript\">require([\"plotly\"], function(Plotly) { window.PLOTLYENV=window.PLOTLYENV || {};window.PLOTLYENV.BASE_URL=\"https://plot.ly\";Plotly.newPlot(\"0551479b-efcf-4fb5-bba8-4b1b11657152\", [{\"type\": \"bar\", \"y\": [3414, 984, 657], \"x\": [\"neutral\", \"positive\", \"negative\"]}], {\"title\": \"Sentiment Analysis #Bitcoin Cash\", \"plot_bgcolor\": \"rgb(230, 230,230)\"}, {\"linkText\": \"Export to plot.ly\", \"showLink\": true})});</script>"
      ],
      "text/vnd.plotly.v1+html": [
       "<div id=\"0551479b-efcf-4fb5-bba8-4b1b11657152\" style=\"height: 525px; width: 100%;\" class=\"plotly-graph-div\"></div><script type=\"text/javascript\">require([\"plotly\"], function(Plotly) { window.PLOTLYENV=window.PLOTLYENV || {};window.PLOTLYENV.BASE_URL=\"https://plot.ly\";Plotly.newPlot(\"0551479b-efcf-4fb5-bba8-4b1b11657152\", [{\"type\": \"bar\", \"y\": [3414, 984, 657], \"x\": [\"neutral\", \"positive\", \"negative\"]}], {\"title\": \"Sentiment Analysis #Bitcoin Cash\", \"plot_bgcolor\": \"rgb(230, 230,230)\"}, {\"linkText\": \"Export to plot.ly\", \"showLink\": true})});</script>"
      ]
     },
     "metadata": {},
     "output_type": "display_data"
    },
    {
     "name": "stdout",
     "output_type": "stream",
     "text": [
      "19.46587537091988 %\n"
     ]
    },
    {
     "data": {
      "application/vnd.plotly.v1+json": {
       "data": [
        {
         "type": "bar",
         "x": [
          "neutral",
          "positive",
          "negative"
         ],
         "y": [
          2398,
          2293,
          358
         ]
        }
       ],
       "layout": {
        "plot_bgcolor": "rgb(230, 230,230)",
        "title": "Sentiment Analysis #Litecoin"
       }
      },
      "text/html": [
       "<div id=\"e35c219c-16c0-4769-a438-499b9f1a88af\" style=\"height: 525px; width: 100%;\" class=\"plotly-graph-div\"></div><script type=\"text/javascript\">require([\"plotly\"], function(Plotly) { window.PLOTLYENV=window.PLOTLYENV || {};window.PLOTLYENV.BASE_URL=\"https://plot.ly\";Plotly.newPlot(\"e35c219c-16c0-4769-a438-499b9f1a88af\", [{\"type\": \"bar\", \"y\": [2398, 2293, 358], \"x\": [\"neutral\", \"positive\", \"negative\"]}], {\"title\": \"Sentiment Analysis #Litecoin\", \"plot_bgcolor\": \"rgb(230, 230,230)\"}, {\"linkText\": \"Export to plot.ly\", \"showLink\": true})});</script>"
      ],
      "text/vnd.plotly.v1+html": [
       "<div id=\"e35c219c-16c0-4769-a438-499b9f1a88af\" style=\"height: 525px; width: 100%;\" class=\"plotly-graph-div\"></div><script type=\"text/javascript\">require([\"plotly\"], function(Plotly) { window.PLOTLYENV=window.PLOTLYENV || {};window.PLOTLYENV.BASE_URL=\"https://plot.ly\";Plotly.newPlot(\"e35c219c-16c0-4769-a438-499b9f1a88af\", [{\"type\": \"bar\", \"y\": [2398, 2293, 358], \"x\": [\"neutral\", \"positive\", \"negative\"]}], {\"title\": \"Sentiment Analysis #Litecoin\", \"plot_bgcolor\": \"rgb(230, 230,230)\"}, {\"linkText\": \"Export to plot.ly\", \"showLink\": true})});</script>"
      ]
     },
     "metadata": {},
     "output_type": "display_data"
    },
    {
     "name": "stdout",
     "output_type": "stream",
     "text": [
      "45.414933650227766 %\n"
     ]
    }
   ],
   "source": [
    "for cryptocurrency_results in cryptocurrencies:\n",
    "    displayResults(cryptocurrency_results)"
   ]
  },
  {
   "cell_type": "code",
   "execution_count": null,
   "metadata": {},
   "outputs": [],
   "source": []
  }
 ],
 "metadata": {
  "kernelspec": {
   "display_name": "Python 3",
   "language": "python",
   "name": "python3"
  },
  "language_info": {
   "codemirror_mode": {
    "name": "ipython",
    "version": 3
   },
   "file_extension": ".py",
   "mimetype": "text/x-python",
   "name": "python",
   "nbconvert_exporter": "python",
   "pygments_lexer": "ipython3",
   "version": "3.5.4"
  }
 },
 "nbformat": 4,
 "nbformat_minor": 2
}
