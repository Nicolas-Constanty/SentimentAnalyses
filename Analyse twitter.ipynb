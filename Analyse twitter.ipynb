{
 "cells": [
  {
   "cell_type": "code",
   "execution_count": 1,
   "metadata": {},
   "outputs": [],
   "source": [
    "%run ./importlib.py"
   ]
  },
  {
   "cell_type": "code",
   "execution_count": 2,
   "metadata": {},
   "outputs": [
    {
     "name": "stdout",
     "output_type": "stream",
     "text": [
      "importing Jupyter notebook from TwitterAnalysis.ipynb\n",
      "2.3.0\n",
      "[nltk_data] Downloading package vader_lexicon to\n",
      "[nltk_data]     C:\\Users\\nicol\\AppData\\Roaming\\nltk_data...\n",
      "[nltk_data]   Package vader_lexicon is already up-to-date!\n"
     ]
    },
    {
     "data": {
      "text/html": [
       "<script>requirejs.config({paths: { 'plotly': ['https://cdn.plot.ly/plotly-latest.min']},});if(!window.Plotly) {{require(['plotly'],function(plotly) {window.Plotly=plotly;});}}</script>"
      ],
      "text/vnd.plotly.v1+html": [
       "<script>requirejs.config({paths: { 'plotly': ['https://cdn.plot.ly/plotly-latest.min']},});if(!window.Plotly) {{require(['plotly'],function(plotly) {window.Plotly=plotly;});}}</script>"
      ]
     },
     "metadata": {},
     "output_type": "display_data"
    }
   ],
   "source": [
    "import TwitterAnalysis"
   ]
  },
  {
   "cell_type": "code",
   "execution_count": 3,
   "metadata": {},
   "outputs": [],
   "source": [
    "def analyseHashtag(query):\n",
    "    tweets = TwitterAnalysis.search(\"#\" + query, maxTweets=5000, fName=query + \".txt\")\n",
    "    return TwitterAnalysis.analyseTweets(tweets)\n",
    "\n",
    "def displayResults(res):\n",
    "    TwitterAnalysis.displayAnalyse(res[\"neutrals\"],\n",
    "                               res[\"positives\"],\n",
    "                               res[\"negatives\"],\n",
    "                               \"Sentiment Analysis \" + res[\"query\"])"
   ]
  },
  {
   "cell_type": "code",
   "execution_count": 4,
   "metadata": {},
   "outputs": [],
   "source": [
    "cryptocurrencies = []\n",
    "cryptocurrencies_names = [\"Bitcoin\", \"Ethereum\", \"Ripple\", \"Bitcoin Cash\", \"Litecoin\"]"
   ]
  },
  {
   "cell_type": "code",
   "execution_count": 5,
   "metadata": {},
   "outputs": [
    {
     "name": "stdout",
     "output_type": "stream",
     "text": [
      "Downloading max 5000 tweets\n",
      "--- 50.89484238624573 seconds ---\n",
      "Downloading max 5000 tweets\n",
      "--- 49.63268446922302 seconds ---\n",
      "Downloading max 5000 tweets\n",
      "--- 56.121591329574585 seconds ---\n",
      "Downloading max 5000 tweets\n",
      "--- 66.9457004070282 seconds ---\n",
      "Downloading max 5000 tweets\n",
      "--- 51.44808506965637 seconds ---\n"
     ]
    }
   ],
   "source": [
    "for cryptocurrency in cryptocurrencies_names:\n",
    "    cryptocurrencies.append(analyseHashtag(cryptocurrency))"
   ]
  },
  {
   "cell_type": "code",
   "execution_count": 6,
   "metadata": {
    "scrolled": false
   },
   "outputs": [
    {
     "data": {
      "application/vnd.plotly.v1+json": {
       "data": [
        {
         "type": "bar",
         "x": [
          "neutral",
          "positive",
          "negative"
         ],
         "y": [
          3059,
          1613,
          358
         ]
        }
       ],
       "layout": {
        "plot_bgcolor": "rgb(230, 230,230)",
        "title": "Sentiment Analysis #Bitcoin"
       }
      },
      "text/html": [
       "<div id=\"4e5d2fcc-e2fb-428d-a42e-0acc32f3fe1a\" style=\"height: 525px; width: 100%;\" class=\"plotly-graph-div\"></div><script type=\"text/javascript\">require([\"plotly\"], function(Plotly) { window.PLOTLYENV=window.PLOTLYENV || {};window.PLOTLYENV.BASE_URL=\"https://plot.ly\";Plotly.newPlot(\"4e5d2fcc-e2fb-428d-a42e-0acc32f3fe1a\", [{\"y\": [3059, 1613, 358], \"x\": [\"neutral\", \"positive\", \"negative\"], \"type\": \"bar\"}], {\"plot_bgcolor\": \"rgb(230, 230,230)\", \"title\": \"Sentiment Analysis #Bitcoin\"}, {\"showLink\": true, \"linkText\": \"Export to plot.ly\"})});</script>"
      ],
      "text/vnd.plotly.v1+html": [
       "<div id=\"4e5d2fcc-e2fb-428d-a42e-0acc32f3fe1a\" style=\"height: 525px; width: 100%;\" class=\"plotly-graph-div\"></div><script type=\"text/javascript\">require([\"plotly\"], function(Plotly) { window.PLOTLYENV=window.PLOTLYENV || {};window.PLOTLYENV.BASE_URL=\"https://plot.ly\";Plotly.newPlot(\"4e5d2fcc-e2fb-428d-a42e-0acc32f3fe1a\", [{\"y\": [3059, 1613, 358], \"x\": [\"neutral\", \"positive\", \"negative\"], \"type\": \"bar\"}], {\"plot_bgcolor\": \"rgb(230, 230,230)\", \"title\": \"Sentiment Analysis #Bitcoin\"}, {\"showLink\": true, \"linkText\": \"Export to plot.ly\"})});</script>"
      ]
     },
     "metadata": {},
     "output_type": "display_data"
    },
    {
     "data": {
      "application/vnd.plotly.v1+json": {
       "data": [
        {
         "type": "bar",
         "x": [
          "neutral",
          "positive",
          "negative"
         ],
         "y": [
          2925,
          1975,
          165
         ]
        }
       ],
       "layout": {
        "plot_bgcolor": "rgb(230, 230,230)",
        "title": "Sentiment Analysis #Ethereum"
       }
      },
      "text/html": [
       "<div id=\"394c118d-b5c5-40d1-acd8-36b1a8910b0f\" style=\"height: 525px; width: 100%;\" class=\"plotly-graph-div\"></div><script type=\"text/javascript\">require([\"plotly\"], function(Plotly) { window.PLOTLYENV=window.PLOTLYENV || {};window.PLOTLYENV.BASE_URL=\"https://plot.ly\";Plotly.newPlot(\"394c118d-b5c5-40d1-acd8-36b1a8910b0f\", [{\"y\": [2925, 1975, 165], \"x\": [\"neutral\", \"positive\", \"negative\"], \"type\": \"bar\"}], {\"plot_bgcolor\": \"rgb(230, 230,230)\", \"title\": \"Sentiment Analysis #Ethereum\"}, {\"showLink\": true, \"linkText\": \"Export to plot.ly\"})});</script>"
      ],
      "text/vnd.plotly.v1+html": [
       "<div id=\"394c118d-b5c5-40d1-acd8-36b1a8910b0f\" style=\"height: 525px; width: 100%;\" class=\"plotly-graph-div\"></div><script type=\"text/javascript\">require([\"plotly\"], function(Plotly) { window.PLOTLYENV=window.PLOTLYENV || {};window.PLOTLYENV.BASE_URL=\"https://plot.ly\";Plotly.newPlot(\"394c118d-b5c5-40d1-acd8-36b1a8910b0f\", [{\"y\": [2925, 1975, 165], \"x\": [\"neutral\", \"positive\", \"negative\"], \"type\": \"bar\"}], {\"plot_bgcolor\": \"rgb(230, 230,230)\", \"title\": \"Sentiment Analysis #Ethereum\"}, {\"showLink\": true, \"linkText\": \"Export to plot.ly\"})});</script>"
      ]
     },
     "metadata": {},
     "output_type": "display_data"
    },
    {
     "data": {
      "application/vnd.plotly.v1+json": {
       "data": [
        {
         "type": "bar",
         "x": [
          "neutral",
          "positive",
          "negative"
         ],
         "y": [
          3506,
          1232,
          295
         ]
        }
       ],
       "layout": {
        "plot_bgcolor": "rgb(230, 230,230)",
        "title": "Sentiment Analysis #Ripple"
       }
      },
      "text/html": [
       "<div id=\"8034dc2d-5241-4cbf-9306-076ca52c3c50\" style=\"height: 525px; width: 100%;\" class=\"plotly-graph-div\"></div><script type=\"text/javascript\">require([\"plotly\"], function(Plotly) { window.PLOTLYENV=window.PLOTLYENV || {};window.PLOTLYENV.BASE_URL=\"https://plot.ly\";Plotly.newPlot(\"8034dc2d-5241-4cbf-9306-076ca52c3c50\", [{\"y\": [3506, 1232, 295], \"x\": [\"neutral\", \"positive\", \"negative\"], \"type\": \"bar\"}], {\"plot_bgcolor\": \"rgb(230, 230,230)\", \"title\": \"Sentiment Analysis #Ripple\"}, {\"showLink\": true, \"linkText\": \"Export to plot.ly\"})});</script>"
      ],
      "text/vnd.plotly.v1+html": [
       "<div id=\"8034dc2d-5241-4cbf-9306-076ca52c3c50\" style=\"height: 525px; width: 100%;\" class=\"plotly-graph-div\"></div><script type=\"text/javascript\">require([\"plotly\"], function(Plotly) { window.PLOTLYENV=window.PLOTLYENV || {};window.PLOTLYENV.BASE_URL=\"https://plot.ly\";Plotly.newPlot(\"8034dc2d-5241-4cbf-9306-076ca52c3c50\", [{\"y\": [3506, 1232, 295], \"x\": [\"neutral\", \"positive\", \"negative\"], \"type\": \"bar\"}], {\"plot_bgcolor\": \"rgb(230, 230,230)\", \"title\": \"Sentiment Analysis #Ripple\"}, {\"showLink\": true, \"linkText\": \"Export to plot.ly\"})});</script>"
      ]
     },
     "metadata": {},
     "output_type": "display_data"
    },
    {
     "data": {
      "application/vnd.plotly.v1+json": {
       "data": [
        {
         "type": "bar",
         "x": [
          "neutral",
          "positive",
          "negative"
         ],
         "y": [
          3352,
          998,
          664
         ]
        }
       ],
       "layout": {
        "plot_bgcolor": "rgb(230, 230,230)",
        "title": "Sentiment Analysis #Bitcoin Cash"
       }
      },
      "text/html": [
       "<div id=\"86ca7940-09bd-4414-b154-25fa792859e9\" style=\"height: 525px; width: 100%;\" class=\"plotly-graph-div\"></div><script type=\"text/javascript\">require([\"plotly\"], function(Plotly) { window.PLOTLYENV=window.PLOTLYENV || {};window.PLOTLYENV.BASE_URL=\"https://plot.ly\";Plotly.newPlot(\"86ca7940-09bd-4414-b154-25fa792859e9\", [{\"y\": [3352, 998, 664], \"x\": [\"neutral\", \"positive\", \"negative\"], \"type\": \"bar\"}], {\"plot_bgcolor\": \"rgb(230, 230,230)\", \"title\": \"Sentiment Analysis #Bitcoin Cash\"}, {\"showLink\": true, \"linkText\": \"Export to plot.ly\"})});</script>"
      ],
      "text/vnd.plotly.v1+html": [
       "<div id=\"86ca7940-09bd-4414-b154-25fa792859e9\" style=\"height: 525px; width: 100%;\" class=\"plotly-graph-div\"></div><script type=\"text/javascript\">require([\"plotly\"], function(Plotly) { window.PLOTLYENV=window.PLOTLYENV || {};window.PLOTLYENV.BASE_URL=\"https://plot.ly\";Plotly.newPlot(\"86ca7940-09bd-4414-b154-25fa792859e9\", [{\"y\": [3352, 998, 664], \"x\": [\"neutral\", \"positive\", \"negative\"], \"type\": \"bar\"}], {\"plot_bgcolor\": \"rgb(230, 230,230)\", \"title\": \"Sentiment Analysis #Bitcoin Cash\"}, {\"showLink\": true, \"linkText\": \"Export to plot.ly\"})});</script>"
      ]
     },
     "metadata": {},
     "output_type": "display_data"
    },
    {
     "data": {
      "application/vnd.plotly.v1+json": {
       "data": [
        {
         "type": "bar",
         "x": [
          "neutral",
          "positive",
          "negative"
         ],
         "y": [
          2393,
          2282,
          358
         ]
        }
       ],
       "layout": {
        "plot_bgcolor": "rgb(230, 230,230)",
        "title": "Sentiment Analysis #Litecoin"
       }
      },
      "text/html": [
       "<div id=\"0bfeb58a-bf93-45cc-9f03-5a5e4438ba7c\" style=\"height: 525px; width: 100%;\" class=\"plotly-graph-div\"></div><script type=\"text/javascript\">require([\"plotly\"], function(Plotly) { window.PLOTLYENV=window.PLOTLYENV || {};window.PLOTLYENV.BASE_URL=\"https://plot.ly\";Plotly.newPlot(\"0bfeb58a-bf93-45cc-9f03-5a5e4438ba7c\", [{\"y\": [2393, 2282, 358], \"x\": [\"neutral\", \"positive\", \"negative\"], \"type\": \"bar\"}], {\"plot_bgcolor\": \"rgb(230, 230,230)\", \"title\": \"Sentiment Analysis #Litecoin\"}, {\"showLink\": true, \"linkText\": \"Export to plot.ly\"})});</script>"
      ],
      "text/vnd.plotly.v1+html": [
       "<div id=\"0bfeb58a-bf93-45cc-9f03-5a5e4438ba7c\" style=\"height: 525px; width: 100%;\" class=\"plotly-graph-div\"></div><script type=\"text/javascript\">require([\"plotly\"], function(Plotly) { window.PLOTLYENV=window.PLOTLYENV || {};window.PLOTLYENV.BASE_URL=\"https://plot.ly\";Plotly.newPlot(\"0bfeb58a-bf93-45cc-9f03-5a5e4438ba7c\", [{\"y\": [2393, 2282, 358], \"x\": [\"neutral\", \"positive\", \"negative\"], \"type\": \"bar\"}], {\"plot_bgcolor\": \"rgb(230, 230,230)\", \"title\": \"Sentiment Analysis #Litecoin\"}, {\"showLink\": true, \"linkText\": \"Export to plot.ly\"})});</script>"
      ]
     },
     "metadata": {},
     "output_type": "display_data"
    }
   ],
   "source": [
    "for cryptocurrency_results in cryptocurrencies:\n",
    "    displayResults(cryptocurrency_results)"
   ]
  }
 ],
 "metadata": {
  "kernelspec": {
   "display_name": "Python 3",
   "language": "python",
   "name": "python3"
  },
  "language_info": {
   "codemirror_mode": {
    "name": "ipython",
    "version": 3
   },
   "file_extension": ".py",
   "mimetype": "text/x-python",
   "name": "python",
   "nbconvert_exporter": "python",
   "pygments_lexer": "ipython3",
   "version": "3.5.4"
  }
 },
 "nbformat": 4,
 "nbformat_minor": 2
}
